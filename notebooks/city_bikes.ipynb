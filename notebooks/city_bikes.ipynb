{
 "cells": [
  {
   "cell_type": "markdown",
   "metadata": {},
   "source": [
    "# CityBikes"
   ]
  },
  {
   "cell_type": "markdown",
   "metadata": {},
   "source": [
    "Send a request to CityBikes for the city of your choice. "
   ]
  },
  {
   "cell_type": "code",
   "execution_count": null,
   "metadata": {},
   "outputs": [],
   "source": []
  },
  {
   "cell_type": "code",
   "execution_count": 5,
   "metadata": {},
   "outputs": [
    {
     "name": "stdout",
     "output_type": "stream",
     "text": [
      "Bike Stations in porto alegre:\n",
      "\n",
      "    empty_slots                                              extra  \\\n",
      "0             7  {'address': 'Avenida Ipiranga / canteiro centr...   \n",
      "1             8  {'address': 'Rua Mucio Teixeira calçada do sup...   \n",
      "2             7  {'address': 'Rua José do Patrocínio oposto ao ...   \n",
      "3            10  {'address': 'Avenida Praia de Belas frente ao ...   \n",
      "4            14  {'address': 'R. Cecília Meireles, esquina com ...   \n",
      "..          ...                                                ...   \n",
      "90           15  {'address': 'Avenida Bento Gonçalves, oposto a...   \n",
      "91            6  {'address': 'Rua Jaraguá, oposto ao N 696', 'a...   \n",
      "92           18  {'address': 'Av. João Walig, próximo da Av. Tú...   \n",
      "93           14  {'address': 'Avenida Túlio de Rose, E/F ao N 3...   \n",
      "94           10  {'address': 'Rua Mata Bacelar, na lateral do N...   \n",
      "\n",
      "    free_bikes                                id   latitude  longitude  \\\n",
      "0            8  350d38f76b6f9c980a3a587cd3e4ed41 -30.048463 -51.218161   \n",
      "1           15  5c45697c0c6b6a96e39175bcd58e2e7f -30.044404 -51.223403   \n",
      "2           16  3e750dc4c24a527b8f2e2152eb9cbe26 -30.043309 -51.219765   \n",
      "3            5  1796f25953a0405ec749e6ba426c1c70 -30.047039 -51.227530   \n",
      "4            5  8d2988bd9e1384e76c75c5bdaf040d95 -30.051020 -51.229523   \n",
      "..         ...                               ...        ...        ...   \n",
      "90           4  247f63d2b91b7ebc2806e01917043e1f -30.061797 -51.174298   \n",
      "91           9  c4a813cb6c256bb474b9a102711cf842 -30.035113 -51.186051   \n",
      "92           5  59e7fde6d538b0a67da947aea32f9f94 -30.022538 -51.163716   \n",
      "93           5  63c5afccca062d3b6f82ab4457d3b371 -30.022685 -51.158890   \n",
      "94           5  e4d669d78aec8139890d82ca6ea6e8c2 -30.020714 -51.193835   \n",
      "\n",
      "                                name                    timestamp  \n",
      "0                    24 - Cascatinha  2023-09-09T13:05:37.942000Z  \n",
      "1              25 - Estação Nacional  2023-09-09T13:05:37.944000Z  \n",
      "2               26 - Praça Garibaldi  2023-09-09T13:05:37.944000Z  \n",
      "3                20 - Praia de Belas  2023-09-09T13:05:37.946000Z  \n",
      "4                  21 - Praça Itália  2023-09-09T13:05:37.946000Z  \n",
      "..                               ...                          ...  \n",
      "90       75 - Acesso Bento Gonçalves  2023-09-09T13:05:37.957000Z  \n",
      "91               65 - Praça da Encol  2023-09-09T13:05:37.952000Z  \n",
      "92  74 - Shopping Iguatemi / Bourbon  2023-09-09T13:05:37.958000Z  \n",
      "93              73 - Parque Germânia  2023-09-09T13:05:37.961000Z  \n",
      "94      96 - Mata Bacelar - Mariland  2023-09-09T13:05:37.970000Z  \n",
      "\n",
      "[95 rows x 8 columns]\n"
     ]
    }
   ],
   "source": [
    "import requests\n",
    "import pandas as pd\n",
    "\n",
    "# Fetch the list of all networks\n",
    "response = requests.get(\"http://api.citybik.es/v2/networks\")\n",
    "data = response.json()\n",
    "\n",
    "# Check if the request was successful (status code 200)\n",
    "if response.status_code == 200:\n",
    "    city_name = input(\"Enter name of city: \")\n",
    "\n",
    "    filtered_networks = [network for network in data[\"networks\"] if network[\"location\"][\"city\"].lower() == city_name.lower()]\n",
    "\n",
    "    if filtered_networks:\n",
    "        chosen_network = filtered_networks[0]\n",
    "        chosen_network_id = chosen_network[\"id\"]\n",
    "\n",
    "        chosen_network_response = requests.get(f\"http://api.citybik.es/v2/networks/{chosen_network_id}\")\n",
    "        chosen_network_data = chosen_network_response.json()\n",
    "\n",
    "        bike_stations = chosen_network_data.get(\"network\", {}).get(\"stations\", [])\n",
    "\n",
    "        if bike_stations:\n",
    "            # Create a DataFrame from the bike_stations list\n",
    "            df = pd.DataFrame(bike_stations)\n",
    "\n",
    "            print(f\"Bike Stations in {city_name}:\\n\")\n",
    "            print(df)\n",
    "        else:\n",
    "            print(f\"No bike stations found for {city_name}.\")\n",
    "    else:\n",
    "        print(f\"No networks found for {city_name}.\")\n",
    "else:\n",
    "    print(f\"Failed to retrieve network data. Status code: {response.status_code}\")\n"
   ]
  },
  {
   "cell_type": "code",
   "execution_count": 6,
   "metadata": {},
   "outputs": [
    {
     "name": "stdout",
     "output_type": "stream",
     "text": [
      "<class 'pandas.core.frame.DataFrame'>\n",
      "RangeIndex: 95 entries, 0 to 94\n",
      "Data columns (total 8 columns):\n",
      " #   Column       Non-Null Count  Dtype  \n",
      "---  ------       --------------  -----  \n",
      " 0   empty_slots  95 non-null     int64  \n",
      " 1   extra        95 non-null     object \n",
      " 2   free_bikes   95 non-null     int64  \n",
      " 3   id           95 non-null     object \n",
      " 4   latitude     95 non-null     float64\n",
      " 5   longitude    95 non-null     float64\n",
      " 6   name         95 non-null     object \n",
      " 7   timestamp    95 non-null     object \n",
      "dtypes: float64(2), int64(2), object(4)\n",
      "memory usage: 6.1+ KB\n",
      "<class 'pandas.core.frame.DataFrame'>\n"
     ]
    },
    {
     "data": {
      "text/plain": [
       "(None, None)"
      ]
     },
     "execution_count": 6,
     "metadata": {},
     "output_type": "execute_result"
    }
   ],
   "source": [
    "df.info(), print(type(df))"
   ]
  },
  {
   "cell_type": "code",
   "execution_count": 7,
   "metadata": {},
   "outputs": [
    {
     "name": "stdout",
     "output_type": "stream",
     "text": [
      "<class 'pandas.core.series.Series'>\n"
     ]
    }
   ],
   "source": [
    "# Notice a column named extra which I dont know it's content.\n",
    "# Let's explore it.\n",
    "print(type(df['extra']))\n"
   ]
  },
  {
   "cell_type": "markdown",
   "metadata": {},
   "source": [
    "Parse through the response to get the details you want for the bike stations in that city (latitude, longitude, number of bikes). "
   ]
  },
  {
   "cell_type": "code",
   "execution_count": 8,
   "metadata": {},
   "outputs": [
    {
     "name": "stdout",
     "output_type": "stream",
     "text": [
      "Bike Stations in porto alegre (DataFrame):\n",
      "\n",
      "                        Station Name   Latitude  Longitude  Total Bikes\n",
      "0                    24 - Cascatinha -30.048463 -51.218161           15\n",
      "1              25 - Estação Nacional -30.044404 -51.223403           23\n",
      "2               26 - Praça Garibaldi -30.043309 -51.219765           23\n",
      "3                20 - Praia de Belas -30.047039 -51.227530           15\n",
      "4                  21 - Praça Itália -30.051020 -51.229523           19\n",
      "..                               ...        ...        ...          ...\n",
      "90       75 - Acesso Bento Gonçalves -30.061797 -51.174298           19\n",
      "91               65 - Praça da Encol -30.035113 -51.186051           15\n",
      "92  74 - Shopping Iguatemi / Bourbon -30.022538 -51.163716           23\n",
      "93              73 - Parque Germânia -30.022685 -51.158890           19\n",
      "94      96 - Mata Bacelar - Mariland -30.020714 -51.193835           15\n",
      "\n",
      "[95 rows x 4 columns]\n"
     ]
    }
   ],
   "source": [
    "# Create function to retrieve columns of interest\n",
    "def get_bike_stations_data(city_name):\n",
    "    filtered_networks = []\n",
    "    for network in data[\"networks\"]:\n",
    "        if network[\"location\"][\"city\"].lower() == city_name.lower():\n",
    "            filtered_networks.append(network)\n",
    "\n",
    "    if filtered_networks:\n",
    "        chosen_network = filtered_networks[0]\n",
    "        chosen_network_id = chosen_network[\"id\"]\n",
    "\n",
    "        chosen_network_response = requests.get(f\"http://api.citybik.es/v2/networks/{chosen_network_id}\")\n",
    "        chosen_network_data = chosen_network_response.json()\n",
    "\n",
    "        bike_stations = chosen_network_data[\"network\"][\"stations\"]\n",
    "\n",
    "        # Create a list of dictionaries to store station data\n",
    "        station_data_list = []\n",
    "\n",
    "        for station in bike_stations:\n",
    "            latitude = station[\"latitude\"]\n",
    "            longitude = station[\"longitude\"]\n",
    "            station_name = station[\"name\"]  # Include station name\n",
    "\n",
    "            # Check if 'ebikes' is in the 'extra' dictionary\n",
    "            if 'extra' in station and 'ebikes' in station['extra']:\n",
    "                total_bikes = station[\"free_bikes\"] + station[\"empty_slots\"] + station['extra']['ebikes']\n",
    "            else:\n",
    "                total_bikes = station[\"free_bikes\"] + station[\"empty_slots\"]\n",
    "\n",
    "            station_data = {\n",
    "                \"Station Name\": station_name,\n",
    "                \"Latitude\": latitude,\n",
    "                \"Longitude\": longitude,\n",
    "                \"Total Bikes\": total_bikes\n",
    "            }\n",
    "\n",
    "            station_data_list.append(station_data)\n",
    "\n",
    "        # Create a DataFrame from the list of dictionaries\n",
    "        df = pd.DataFrame(station_data_list)\n",
    "\n",
    "        print(f\"Bike Stations in {city_name} (DataFrame):\\n\")\n",
    "        print(df)\n",
    "\n",
    "        # Return the DataFrame\n",
    "        return df\n",
    "    else:\n",
    "        print(f\"No networks found for {city_name}.\")\n",
    "        # Return an empty DataFrame if no networks are found\n",
    "        return pd.DataFrame()\n",
    "\n",
    "# Fetch the list of all networks\n",
    "response = requests.get(\"http://api.citybik.es/v2/networks\")\n",
    "data = response.json()\n",
    "\n",
    "# Take user input for the city name\n",
    "city_name = city_name\n",
    "\n",
    "# Call the function to retrieve and display bike station data and save it in the 'city_bike_df' variable\n",
    "city_bike_df = get_bike_stations_data(city_name)\n"
   ]
  },
  {
   "cell_type": "code",
   "execution_count": 9,
   "metadata": {},
   "outputs": [
    {
     "name": "stdout",
     "output_type": "stream",
     "text": [
      "<class 'pandas.core.frame.DataFrame'>\n",
      "RangeIndex: 95 entries, 0 to 94\n",
      "Data columns (total 4 columns):\n",
      " #   Column        Non-Null Count  Dtype  \n",
      "---  ------        --------------  -----  \n",
      " 0   Station Name  95 non-null     object \n",
      " 1   Latitude      95 non-null     float64\n",
      " 2   Longitude     95 non-null     float64\n",
      " 3   Total Bikes   95 non-null     int64  \n",
      "dtypes: float64(2), int64(1), object(1)\n",
      "memory usage: 3.1+ KB\n"
     ]
    },
    {
     "data": {
      "text/plain": [
       "((95, 4), None)"
      ]
     },
     "execution_count": 9,
     "metadata": {},
     "output_type": "execute_result"
    }
   ],
   "source": [
    "# Review and compare make up of the dataframe\n",
    "city_bike_df.shape, city_bike_df.info(), "
   ]
  },
  {
   "cell_type": "markdown",
   "metadata": {},
   "source": [
    "Put your parsed results into a DataFrame."
   ]
  },
  {
   "cell_type": "code",
   "execution_count": 10,
   "metadata": {},
   "outputs": [],
   "source": [
    "# Parsed into a dataframe in the function above\n"
   ]
  },
  {
   "cell_type": "code",
   "execution_count": 11,
   "metadata": {},
   "outputs": [
    {
     "name": "stdout",
     "output_type": "stream",
     "text": [
      "<class 'pandas.core.frame.DataFrame'>\n",
      "RangeIndex: 95 entries, 0 to 94\n",
      "Data columns (total 8 columns):\n",
      " #   Column       Non-Null Count  Dtype  \n",
      "---  ------       --------------  -----  \n",
      " 0   empty_slots  95 non-null     int64  \n",
      " 1   extra        95 non-null     object \n",
      " 2   free_bikes   95 non-null     int64  \n",
      " 3   id           95 non-null     object \n",
      " 4   latitude     95 non-null     float64\n",
      " 5   longitude    95 non-null     float64\n",
      " 6   name         95 non-null     object \n",
      " 7   timestamp    95 non-null     object \n",
      "dtypes: float64(2), int64(2), object(4)\n",
      "memory usage: 6.1+ KB\n",
      "<class 'pandas.core.frame.DataFrame'>\n",
      "RangeIndex: 95 entries, 0 to 94\n",
      "Data columns (total 4 columns):\n",
      " #   Column        Non-Null Count  Dtype  \n",
      "---  ------        --------------  -----  \n",
      " 0   Station Name  95 non-null     object \n",
      " 1   Latitude      95 non-null     float64\n",
      " 2   Longitude     95 non-null     float64\n",
      " 3   Total Bikes   95 non-null     int64  \n",
      "dtypes: float64(2), int64(1), object(1)\n",
      "memory usage: 3.1+ KB\n"
     ]
    },
    {
     "data": {
      "text/plain": [
       "(None, None)"
      ]
     },
     "execution_count": 11,
     "metadata": {},
     "output_type": "execute_result"
    }
   ],
   "source": [
    "# We then view structure of df and city_bike_df\n",
    "df.info(), city_bike_df.info()\n"
   ]
  },
  {
   "cell_type": "markdown",
   "metadata": {},
   "source": [
    "##### Next step is to merge the two dataframes together"
   ]
  },
  {
   "cell_type": "code",
   "execution_count": 12,
   "metadata": {},
   "outputs": [
    {
     "name": "stdout",
     "output_type": "stream",
     "text": [
      "<class 'pandas.core.frame.DataFrame'>\n",
      "RangeIndex: 95 entries, 0 to 94\n",
      "Data columns (total 12 columns):\n",
      " #   Column        Non-Null Count  Dtype  \n",
      "---  ------        --------------  -----  \n",
      " 0   empty_slots   95 non-null     int64  \n",
      " 1   extra         95 non-null     object \n",
      " 2   free_bikes    95 non-null     int64  \n",
      " 3   id            95 non-null     object \n",
      " 4   latitude      95 non-null     float64\n",
      " 5   longitude     95 non-null     float64\n",
      " 6   name          95 non-null     object \n",
      " 7   timestamp     95 non-null     object \n",
      " 8   Station Name  95 non-null     object \n",
      " 9   Latitude      95 non-null     float64\n",
      " 10  Longitude     95 non-null     float64\n",
      " 11  Total Bikes   95 non-null     int64  \n",
      "dtypes: float64(4), int64(3), object(5)\n",
      "memory usage: 9.0+ KB\n"
     ]
    }
   ],
   "source": [
    "\n",
    "# Concatenate the two DataFrames along the columns axis (axis=1)\n",
    "merged_city = pd.concat([df, city_bike_df], axis=1)\n",
    "\n",
    "# Display the merged DataFrame\n",
    "merged_city.info() # This gives us same number of rows and 15 columns. Making progress\n",
    "\n"
   ]
  },
  {
   "cell_type": "code",
   "execution_count": 13,
   "metadata": {},
   "outputs": [
    {
     "data": {
      "text/html": [
       "<div>\n",
       "<style scoped>\n",
       "    .dataframe tbody tr th:only-of-type {\n",
       "        vertical-align: middle;\n",
       "    }\n",
       "\n",
       "    .dataframe tbody tr th {\n",
       "        vertical-align: top;\n",
       "    }\n",
       "\n",
       "    .dataframe thead th {\n",
       "        text-align: right;\n",
       "    }\n",
       "</style>\n",
       "<table border=\"1\" class=\"dataframe\">\n",
       "  <thead>\n",
       "    <tr style=\"text-align: right;\">\n",
       "      <th></th>\n",
       "      <th>empty_slots</th>\n",
       "      <th>extra</th>\n",
       "      <th>free_bikes</th>\n",
       "      <th>id</th>\n",
       "      <th>latitude</th>\n",
       "      <th>longitude</th>\n",
       "      <th>name</th>\n",
       "      <th>timestamp</th>\n",
       "      <th>Station Name</th>\n",
       "      <th>Latitude</th>\n",
       "      <th>Longitude</th>\n",
       "      <th>Total Bikes</th>\n",
       "    </tr>\n",
       "  </thead>\n",
       "  <tbody>\n",
       "    <tr>\n",
       "      <th>0</th>\n",
       "      <td>7</td>\n",
       "      <td>{'address': 'Avenida Ipiranga / canteiro centr...</td>\n",
       "      <td>8</td>\n",
       "      <td>350d38f76b6f9c980a3a587cd3e4ed41</td>\n",
       "      <td>-30.048463</td>\n",
       "      <td>-51.218161</td>\n",
       "      <td>24 - Cascatinha</td>\n",
       "      <td>2023-09-09T13:05:37.942000Z</td>\n",
       "      <td>24 - Cascatinha</td>\n",
       "      <td>-30.048463</td>\n",
       "      <td>-51.218161</td>\n",
       "      <td>15</td>\n",
       "    </tr>\n",
       "    <tr>\n",
       "      <th>1</th>\n",
       "      <td>8</td>\n",
       "      <td>{'address': 'Rua Mucio Teixeira calçada do sup...</td>\n",
       "      <td>15</td>\n",
       "      <td>5c45697c0c6b6a96e39175bcd58e2e7f</td>\n",
       "      <td>-30.044404</td>\n",
       "      <td>-51.223403</td>\n",
       "      <td>25 - Estação Nacional</td>\n",
       "      <td>2023-09-09T13:05:37.944000Z</td>\n",
       "      <td>25 - Estação Nacional</td>\n",
       "      <td>-30.044404</td>\n",
       "      <td>-51.223403</td>\n",
       "      <td>23</td>\n",
       "    </tr>\n",
       "  </tbody>\n",
       "</table>\n",
       "</div>"
      ],
      "text/plain": [
       "   empty_slots                                              extra  free_bikes  \\\n",
       "0            7  {'address': 'Avenida Ipiranga / canteiro centr...           8   \n",
       "1            8  {'address': 'Rua Mucio Teixeira calçada do sup...          15   \n",
       "\n",
       "                                 id   latitude  longitude  \\\n",
       "0  350d38f76b6f9c980a3a587cd3e4ed41 -30.048463 -51.218161   \n",
       "1  5c45697c0c6b6a96e39175bcd58e2e7f -30.044404 -51.223403   \n",
       "\n",
       "                    name                    timestamp           Station Name  \\\n",
       "0        24 - Cascatinha  2023-09-09T13:05:37.942000Z        24 - Cascatinha   \n",
       "1  25 - Estação Nacional  2023-09-09T13:05:37.944000Z  25 - Estação Nacional   \n",
       "\n",
       "    Latitude  Longitude  Total Bikes  \n",
       "0 -30.048463 -51.218161           15  \n",
       "1 -30.044404 -51.223403           23  "
      ]
     },
     "execution_count": 13,
     "metadata": {},
     "output_type": "execute_result"
    }
   ],
   "source": [
    "# View merged_city\n",
    "merged_city.head(2)"
   ]
  },
  {
   "cell_type": "code",
   "execution_count": 14,
   "metadata": {},
   "outputs": [
    {
     "name": "stdout",
     "output_type": "stream",
     "text": [
      "<class 'pandas.core.frame.DataFrame'>\n"
     ]
    }
   ],
   "source": [
    "# Already put in a dataframe in the function above.\n",
    "print(type(merged_city))"
   ]
  },
  {
   "cell_type": "code",
   "execution_count": 17,
   "metadata": {},
   "outputs": [
    {
     "name": "stdout",
     "output_type": "stream",
     "text": [
      "<class 'pandas.core.frame.DataFrame'>\n",
      "RangeIndex: 95 entries, 0 to 94\n",
      "Data columns (total 12 columns):\n",
      " #   Column        Non-Null Count  Dtype  \n",
      "---  ------        --------------  -----  \n",
      " 0   empty_slots   95 non-null     int64  \n",
      " 1   extra         95 non-null     object \n",
      " 2   free_bikes    95 non-null     int64  \n",
      " 3   id            95 non-null     object \n",
      " 4   latitude      95 non-null     float64\n",
      " 5   longitude     95 non-null     float64\n",
      " 6   name          95 non-null     object \n",
      " 7   timestamp     95 non-null     object \n",
      " 8   Station Name  95 non-null     object \n",
      " 9   Latitude      95 non-null     float64\n",
      " 10  Longitude     95 non-null     float64\n",
      " 11  Total Bikes   95 non-null     int64  \n",
      "dtypes: float64(4), int64(3), object(5)\n",
      "memory usage: 9.0+ KB\n"
     ]
    }
   ],
   "source": [
    "merged_city.info()"
   ]
  },
  {
   "cell_type": "code",
   "execution_count": 15,
   "metadata": {},
   "outputs": [],
   "source": [
    "merged_city.to_csv(r'C:\\Users\\affuy\\Documents\\Data_Sets\\df_2.csv')\n"
   ]
  }
 ],
 "metadata": {
  "kernelspec": {
   "display_name": "Python 3",
   "language": "python",
   "name": "python3"
  },
  "language_info": {
   "codemirror_mode": {
    "name": "ipython",
    "version": 3
   },
   "file_extension": ".py",
   "mimetype": "text/x-python",
   "name": "python",
   "nbconvert_exporter": "python",
   "pygments_lexer": "ipython3",
   "version": "3.9.12"
  }
 },
 "nbformat": 4,
 "nbformat_minor": 4
}
