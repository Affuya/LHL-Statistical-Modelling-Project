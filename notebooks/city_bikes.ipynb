{
 "cells": [
  {
   "cell_type": "markdown",
   "metadata": {},
   "source": [
    "# CityBikes"
   ]
  },
  {
   "cell_type": "markdown",
   "metadata": {},
   "source": [
    "Send a request to CityBikes for the city of your choice. "
   ]
  },
  {
   "cell_type": "code",
   "execution_count": 32,
   "metadata": {},
   "outputs": [
    {
     "name": "stdout",
     "output_type": "stream",
     "text": [
      "Bike Stations in madrid:\n",
      "\n",
      "     empty_slots                                              extra  \\\n",
      "0             17  {'address': 'Calle Miguel Moya nº 1,', 'light'...   \n",
      "1              9  {'address': 'Plaza del Conde del Valle de Súch...   \n",
      "2             17  {'address': 'Calle Hortaleza nº 63,', 'light':...   \n",
      "3             19  {'address': 'Calle Hortaleza nº 75,', 'light':...   \n",
      "4             17  {'address': 'Plaza de San Miguel nº 9,', 'ligh...   \n",
      "..           ...                                                ...   \n",
      "389           12  {'address': 'Arturo Soria, 329,', 'light': 'ye...   \n",
      "390           11  {'address': 'Calle del tejo,', 'light': 'yello...   \n",
      "391           15  {'address': ' Calle Babilonia, 19,', 'light': ...   \n",
      "392           16  {'address': 'Calle Albelda, 6,', 'light': 'yel...   \n",
      "393           17  {'address': '311 - Calle del Profesor Arangure...   \n",
      "\n",
      "     free_bikes                                id   latitude  longitude  \\\n",
      "0            10  82e78d26829a2dc89122e8f0988e2a28  40.420589  -3.705842   \n",
      "1            10  248a049595da65f6aada65476ca1f958  40.430294  -3.706917   \n",
      "2             2  bb6afabc8fbc0e12d4717d6a3a3473c3  40.424148  -3.698447   \n",
      "3             0  55a618a12ce76d28b82343f2c60d6693  40.425191  -3.697771   \n",
      "4             7  5ff854ab96bd68ae3c28be05a0dab949  40.415606  -3.709508   \n",
      "..          ...                               ...        ...        ...   \n",
      "389          11  dc7b27b928b39aea661e2a78c0dbc809  40.480386  -3.667248   \n",
      "390          12  d394021b285e7bf3183a483e530d9daa  40.398001  -3.678027   \n",
      "391           8  2e175e4613adf44134fda53c82f326f5  40.467530  -3.588235   \n",
      "392           8  7b1d1679aa52ec836f5d709292a8d177  40.449422  -3.657367   \n",
      "393          10  83e7f55350d04be447fa9916b2a2fa1f  40.448931  -3.730518   \n",
      "\n",
      "                                      name                    timestamp  \n",
      "0                          2 - Miguel Moya  2023-09-05T01:44:12.473000Z  \n",
      "1                   3 - Plaza Conde Suchil  2023-09-05T01:44:12.638000Z  \n",
      "2                  6 - Colegio Arquitectos  2023-09-05T01:44:12.626000Z  \n",
      "3                            7 - Hortaleza  2023-09-05T01:44:12.474000Z  \n",
      "4                  9 - Plaza de San Miguel  2023-09-05T01:44:12.630000Z  \n",
      "..                                     ...                          ...  \n",
      "389                494 - Arturo Soria, 330  2023-09-05T01:44:12.612000Z  \n",
      "390                   272 - Calle del tejo  2023-09-05T01:44:12.949000Z  \n",
      "391              559 - Calle Babilonia, 19  2023-09-05T01:44:12.957000Z  \n",
      "392                       528 - Albelda, 6  2023-09-05T01:44:12.958000Z  \n",
      "393  311 - Calle del Profesor Aranguren, 1  2023-09-05T01:44:12.973000Z  \n",
      "\n",
      "[394 rows x 8 columns]\n"
     ]
    }
   ],
   "source": [
    "import requests\n",
    "import pandas as pd\n",
    "\n",
    "# Fetch the list of all networks\n",
    "response = requests.get(\"http://api.citybik.es/v2/networks\")\n",
    "data = response.json()\n",
    "\n",
    "# Check if the request was successful (status code 200)\n",
    "if response.status_code == 200:\n",
    "    city_name = input(\"Enter name of city: \")\n",
    "\n",
    "    filtered_networks = [network for network in data[\"networks\"] if network[\"location\"][\"city\"].lower() == city_name.lower()]\n",
    "\n",
    "    if filtered_networks:\n",
    "        chosen_network = filtered_networks[0]\n",
    "        chosen_network_id = chosen_network[\"id\"]\n",
    "\n",
    "        chosen_network_response = requests.get(f\"http://api.citybik.es/v2/networks/{chosen_network_id}\")\n",
    "        chosen_network_data = chosen_network_response.json()\n",
    "\n",
    "        bike_stations = chosen_network_data.get(\"network\", {}).get(\"stations\", [])\n",
    "\n",
    "        if bike_stations:\n",
    "            # Create a DataFrame from the bike_stations list\n",
    "            df = pd.DataFrame(bike_stations)\n",
    "\n",
    "            print(f\"Bike Stations in {city_name}:\\n\")\n",
    "            print(df)\n",
    "        else:\n",
    "            print(f\"No bike stations found for {city_name}.\")\n",
    "    else:\n",
    "        print(f\"No networks found for {city_name}.\")\n",
    "else:\n",
    "    print(f\"Failed to retrieve network data. Status code: {response.status_code}\")\n"
   ]
  },
  {
   "cell_type": "code",
   "execution_count": 33,
   "metadata": {},
   "outputs": [
    {
     "name": "stdout",
     "output_type": "stream",
     "text": [
      "<class 'pandas.core.frame.DataFrame'>\n",
      "RangeIndex: 394 entries, 0 to 393\n",
      "Data columns (total 8 columns):\n",
      " #   Column       Non-Null Count  Dtype  \n",
      "---  ------       --------------  -----  \n",
      " 0   empty_slots  394 non-null    int64  \n",
      " 1   extra        394 non-null    object \n",
      " 2   free_bikes   394 non-null    int64  \n",
      " 3   id           394 non-null    object \n",
      " 4   latitude     394 non-null    float64\n",
      " 5   longitude    394 non-null    float64\n",
      " 6   name         394 non-null    object \n",
      " 7   timestamp    394 non-null    object \n",
      "dtypes: float64(2), int64(2), object(4)\n",
      "memory usage: 24.8+ KB\n"
     ]
    }
   ],
   "source": [
    "df.info()"
   ]
  },
  {
   "cell_type": "markdown",
   "metadata": {},
   "source": [
    "Parse through the response to get the details you want for the bike stations in that city (latitude, longitude, number of bikes). "
   ]
  },
  {
   "cell_type": "code",
   "execution_count": 34,
   "metadata": {},
   "outputs": [
    {
     "name": "stdout",
     "output_type": "stream",
     "text": [
      "Bike Stations in madrid (DataFrame):\n",
      "\n",
      "                              Station Name   Latitude  Longitude  Total Bikes\n",
      "0                          2 - Miguel Moya  40.420589  -3.705842           27\n",
      "1                   3 - Plaza Conde Suchil  40.430294  -3.706917           19\n",
      "2                  6 - Colegio Arquitectos  40.424148  -3.698447           19\n",
      "3                            7 - Hortaleza  40.425191  -3.697771           19\n",
      "4                  9 - Plaza de San Miguel  40.415606  -3.709508           24\n",
      "..                                     ...        ...        ...          ...\n",
      "389                494 - Arturo Soria, 330  40.480386  -3.667248           23\n",
      "390                   272 - Calle del tejo  40.398001  -3.678027           23\n",
      "391              559 - Calle Babilonia, 19  40.467530  -3.588235           23\n",
      "392                       528 - Albelda, 6  40.449422  -3.657367           24\n",
      "393  311 - Calle del Profesor Aranguren, 1  40.448931  -3.730518           27\n",
      "\n",
      "[394 rows x 4 columns]\n"
     ]
    }
   ],
   "source": [
    "# create a function to retrieve the columns we need\n",
    "import requests\n",
    "import pandas as pd\n",
    "\n",
    "def get_bike_stations_data(city_name):\n",
    "    filtered_networks = []\n",
    "    for network in data[\"networks\"]:\n",
    "        if network[\"location\"][\"city\"].lower() == city_name.lower():\n",
    "            filtered_networks.append(network)\n",
    "\n",
    "    if filtered_networks:\n",
    "        chosen_network = filtered_networks[0]\n",
    "        chosen_network_id = chosen_network[\"id\"]\n",
    "\n",
    "        chosen_network_response = requests.get(f\"http://api.citybik.es/v2/networks/{chosen_network_id}\")\n",
    "        chosen_network_data = chosen_network_response.json()\n",
    "\n",
    "        bike_stations = chosen_network_data[\"network\"][\"stations\"]\n",
    "\n",
    "        # Create a list of dictionaries to store station data\n",
    "        station_data_list = []\n",
    "\n",
    "        for station in bike_stations:\n",
    "            latitude = station[\"latitude\"]\n",
    "            longitude = station[\"longitude\"]\n",
    "            station_name = station[\"name\"]  # Include station name\n",
    "\n",
    "            # Check if 'ebikes' is in the 'extra' dictionary\n",
    "            if 'extra' in station and 'ebikes' in station['extra']:\n",
    "                total_bikes = station[\"free_bikes\"] + station[\"empty_slots\"] + station['extra']['ebikes']\n",
    "            else:\n",
    "                total_bikes = station[\"free_bikes\"] + station[\"empty_slots\"]\n",
    "\n",
    "\n",
    "            station_data = {\n",
    "                \"Station Name\": station_name,\n",
    "                \"Latitude\": latitude,\n",
    "                \"Longitude\": longitude,\n",
    "                \"Total Bikes\": total_bikes\n",
    "            }\n",
    "\n",
    "            station_data_list.append(station_data)\n",
    "\n",
    "        # Create a DataFrame from the list of dictionaries\n",
    "        df = pd.DataFrame(station_data_list)\n",
    "\n",
    "        print(f\"Bike Stations in {city_name} (DataFrame):\\n\")\n",
    "        print(df)\n",
    "    else:\n",
    "        print(f\"No networks found for {city_name}.\")\n",
    "\n",
    "# Fetch the list of all networks\n",
    "response = requests.get(\"http://api.citybik.es/v2/networks\")\n",
    "data = response.json()\n",
    "\n",
    "# Take user input for the city name\n",
    "city_name = city_name\n",
    "\n",
    "# Call the function to retrieve and display bike station data\n",
    "get_bike_stations_data(city_name)\n"
   ]
  },
  {
   "cell_type": "markdown",
   "metadata": {},
   "source": [
    "Put your parsed results into a DataFrame."
   ]
  },
  {
   "cell_type": "code",
   "execution_count": 35,
   "metadata": {},
   "outputs": [
    {
     "data": {
      "text/html": [
       "<div>\n",
       "<style scoped>\n",
       "    .dataframe tbody tr th:only-of-type {\n",
       "        vertical-align: middle;\n",
       "    }\n",
       "\n",
       "    .dataframe tbody tr th {\n",
       "        vertical-align: top;\n",
       "    }\n",
       "\n",
       "    .dataframe thead th {\n",
       "        text-align: right;\n",
       "    }\n",
       "</style>\n",
       "<table border=\"1\" class=\"dataframe\">\n",
       "  <thead>\n",
       "    <tr style=\"text-align: right;\">\n",
       "      <th></th>\n",
       "      <th>empty_slots</th>\n",
       "      <th>extra</th>\n",
       "      <th>free_bikes</th>\n",
       "      <th>id</th>\n",
       "      <th>latitude</th>\n",
       "      <th>longitude</th>\n",
       "      <th>name</th>\n",
       "      <th>timestamp</th>\n",
       "    </tr>\n",
       "  </thead>\n",
       "  <tbody>\n",
       "    <tr>\n",
       "      <th>0</th>\n",
       "      <td>17</td>\n",
       "      <td>{'address': 'Calle Miguel Moya nº 1,', 'light'...</td>\n",
       "      <td>10</td>\n",
       "      <td>82e78d26829a2dc89122e8f0988e2a28</td>\n",
       "      <td>40.420589</td>\n",
       "      <td>-3.705842</td>\n",
       "      <td>2 - Miguel Moya</td>\n",
       "      <td>2023-09-05T01:44:12.473000Z</td>\n",
       "    </tr>\n",
       "    <tr>\n",
       "      <th>1</th>\n",
       "      <td>9</td>\n",
       "      <td>{'address': 'Plaza del Conde del Valle de Súch...</td>\n",
       "      <td>10</td>\n",
       "      <td>248a049595da65f6aada65476ca1f958</td>\n",
       "      <td>40.430294</td>\n",
       "      <td>-3.706917</td>\n",
       "      <td>3 - Plaza Conde Suchil</td>\n",
       "      <td>2023-09-05T01:44:12.638000Z</td>\n",
       "    </tr>\n",
       "  </tbody>\n",
       "</table>\n",
       "</div>"
      ],
      "text/plain": [
       "   empty_slots                                              extra  free_bikes  \\\n",
       "0           17  {'address': 'Calle Miguel Moya nº 1,', 'light'...          10   \n",
       "1            9  {'address': 'Plaza del Conde del Valle de Súch...          10   \n",
       "\n",
       "                                 id   latitude  longitude  \\\n",
       "0  82e78d26829a2dc89122e8f0988e2a28  40.420589  -3.705842   \n",
       "1  248a049595da65f6aada65476ca1f958  40.430294  -3.706917   \n",
       "\n",
       "                     name                    timestamp  \n",
       "0         2 - Miguel Moya  2023-09-05T01:44:12.473000Z  \n",
       "1  3 - Plaza Conde Suchil  2023-09-05T01:44:12.638000Z  "
      ]
     },
     "execution_count": 35,
     "metadata": {},
     "output_type": "execute_result"
    }
   ],
   "source": [
    "df.head(2)"
   ]
  },
  {
   "cell_type": "code",
   "execution_count": 36,
   "metadata": {},
   "outputs": [
    {
     "name": "stdout",
     "output_type": "stream",
     "text": [
      "<class 'pandas.core.frame.DataFrame'>\n"
     ]
    }
   ],
   "source": [
    "# Already put in a dataframe in the function above.\n",
    "print(type(df))"
   ]
  },
  {
   "cell_type": "code",
   "execution_count": 37,
   "metadata": {},
   "outputs": [
    {
     "name": "stdout",
     "output_type": "stream",
     "text": [
      "<class 'pandas.core.frame.DataFrame'>\n",
      "RangeIndex: 394 entries, 0 to 393\n",
      "Data columns (total 8 columns):\n",
      " #   Column       Non-Null Count  Dtype  \n",
      "---  ------       --------------  -----  \n",
      " 0   empty_slots  394 non-null    int64  \n",
      " 1   extra        394 non-null    object \n",
      " 2   free_bikes   394 non-null    int64  \n",
      " 3   id           394 non-null    object \n",
      " 4   latitude     394 non-null    float64\n",
      " 5   longitude    394 non-null    float64\n",
      " 6   name         394 non-null    object \n",
      " 7   timestamp    394 non-null    object \n",
      "dtypes: float64(2), int64(2), object(4)\n",
      "memory usage: 24.8+ KB\n"
     ]
    }
   ],
   "source": [
    "df.info()"
   ]
  },
  {
   "cell_type": "code",
   "execution_count": 38,
   "metadata": {},
   "outputs": [],
   "source": [
    "df.to_csv(r'C:\\Users\\affuy\\Documents\\Data_Sets\\df_2.csv')\n"
   ]
  }
 ],
 "metadata": {
  "kernelspec": {
   "display_name": "Python 3",
   "language": "python",
   "name": "python3"
  },
  "language_info": {
   "codemirror_mode": {
    "name": "ipython",
    "version": 3
   },
   "file_extension": ".py",
   "mimetype": "text/x-python",
   "name": "python",
   "nbconvert_exporter": "python",
   "pygments_lexer": "ipython3",
   "version": "3.9.12"
  }
 },
 "nbformat": 4,
 "nbformat_minor": 4
}
