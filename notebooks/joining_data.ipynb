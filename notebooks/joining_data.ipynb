{
 "cells": [
  {
   "cell_type": "markdown",
   "metadata": {},
   "source": [
    "Join the data from Part 1 with the data from Part 2 to create a new dataframe."
   ]
  },
  {
   "cell_type": "code",
   "execution_count": 3,
   "metadata": {},
   "outputs": [],
   "source": [
    "import pandas as pd \n",
    "# Load data from Part 1 and Part 2 stored in local drive as CSV files\n",
    "# Load Yelp dataframe\n",
    "df_yelp = pd.read_csv('C:\\\\Users\\\\affuy\\\\Documents\\\\Data_Sets\\\\df_Yelp.csv')\n",
    "\n",
    "# Load Foursquare dataframe \n",
    "df_foursquare = pd.read_csv(r'C:\\Users\\affuy\\Documents\\Data_Sets\\df_foursquare.csv')\n",
    "\n",
    "# Join the DataFrames using concat (vertical stacking)\n",
    "combined_df = pd.concat([df_yelp, df_foursquare], axis=0)\n",
    "# combined_df.head(4)"
   ]
  },
  {
   "cell_type": "markdown",
   "metadata": {},
   "source": [
    "Provide a visualization that you used as part of your EDA process. Explain the initial pattern or relationship you discoved through this visualization. \n",
    "\n",
    "We used a bar chart to visualize the distribution of different types of establishments in your dataset for several reasons:\n",
    "\n",
    "Categorical Data: In your dataset, the \"type\" column represents the type of each establishment. Categorical data consists of distinct categories or labels, making it suitable for visualization using bar charts.\n",
    "\n",
    "Understanding Composition: The primary objective was to understand the composition of your dataset. Specifically, we wanted to know how many establishments belonged to each category or type (e.g., \"Restaurant,\" \"Bar,\" \"Nightclub,\" etc.)."
   ]
  },
  {
   "cell_type": "code",
   "execution_count": 4,
   "metadata": {},
   "outputs": [
    {
     "data": {
      "image/png": "[encoded data removed]",
      "text/plain": [
       "<Figure size 720x432 with 1 Axes>"
      ]
     },
     "metadata": {
      "needs_background": "light"
     },
     "output_type": "display_data"
    }
   ],
   "source": [
    "import matplotlib.pyplot as plt\n",
    "\n",
    "# Count the occurrences of each establishment type\n",
    "type_counts = combined_df['type'].value_counts()\n",
    "\n",
    "# Create a bar chart\n",
    "plt.figure(figsize=(10, 6))\n",
    "plt.bar(type_counts.index, type_counts.values)\n",
    "plt.xlabel('Establishment Type')\n",
    "plt.ylabel('Count')\n",
    "plt.title('Distribution of Establishment Types')\n",
    "plt.xticks(rotation=45)  # Rotate x-axis labels for better readability\n",
    "plt.show()"
   ]
  },
  {
   "cell_type": "markdown",
   "metadata": {},
   "source": [
    "##### Purpose was to view the distribution of my rankings. But being that the sample dataset selected all had the same rank, not much deductions could be made from this."
   ]
  },
  {
   "cell_type": "code",
   "execution_count": 5,
   "metadata": {},
   "outputs": [
    {
     "data": {
      "image/png": "[encoded data removed]",
      "text/plain": [
       "<Figure size 720x432 with 1 Axes>"
      ]
     },
     "metadata": {
      "needs_background": "light"
     },
     "output_type": "display_data"
    }
   ],
   "source": [
    "# Filter out rows where 'ranking' is not null\n",
    "ranked_df = combined_df[combined_df['ranking'].notnull()]\n",
    "\n",
    "# Create a histogram for 'ranking'\n",
    "plt.figure(figsize=(10, 6))\n",
    "plt.hist(ranked_df['ranking'], bins=10, edgecolor='k')\n",
    "plt.xlabel('Ranking')\n",
    "plt.ylabel('Frequency')\n",
    "plt.title('Distribution of Rankings')\n",
    "plt.show()\n"
   ]
  },
  {
   "cell_type": "markdown",
   "metadata": {},
   "source": [
    "# Database"
   ]
  },
  {
   "cell_type": "markdown",
   "metadata": {},
   "source": [
    "Put all your results in an SQLite3 database (remember, SQLite stores its databases as files in your local machine - make sure to create your database in your project's data/ directory!)"
   ]
  },
  {
   "cell_type": "code",
   "execution_count": 13,
   "metadata": {},
   "outputs": [],
   "source": [
    "test_df= pd.DataFrame({'col1': [1,2,3], \n",
    "                       'col2': [4,5,6]})"
   ]
  },
  {
   "cell_type": "code",
   "execution_count": 14,
   "metadata": {},
   "outputs": [],
   "source": [
    "import sqlite3\n",
    "connection = sqlite3.connect('combined_df.sqlite')"
   ]
  },
  {
   "cell_type": "code",
   "execution_count": 15,
   "metadata": {},
   "outputs": [],
   "source": [
    "test_df.to_sql('sql_table_combined_df', connection, if_exists='replace', index=False)\n",
    "connection.close()\n"
   ]
  },
  {
   "cell_type": "markdown",
   "metadata": {},
   "source": [
    "Look at the data before and after the join to validate your data."
   ]
  },
  {
   "cell_type": "code",
   "execution_count": null,
   "metadata": {},
   "outputs": [],
   "source": []
  }
 ],
 "metadata": {
  "kernelspec": {
   "display_name": "Python 3",
   "language": "python",
   "name": "python3"
  },
  "language_info": {
   "codemirror_mode": {
    "name": "ipython",
    "version": 3
   },
   "file_extension": ".py",
   "mimetype": "text/x-python",
   "name": "python",
   "nbconvert_exporter": "python",
   "pygments_lexer": "ipython3",
   "version": "3.9.12"
  }
 },
 "nbformat": 4,
 "nbformat_minor": 4
}
