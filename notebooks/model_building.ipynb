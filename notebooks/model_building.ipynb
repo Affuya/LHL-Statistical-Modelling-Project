{
 "cells": [
  {
   "cell_type": "markdown",
   "metadata": {},
   "source": [
    "Build a regression model."
   ]
  },
  {
   "cell_type": "code",
   "execution_count": null,
   "metadata": {},
   "outputs": [],
   "source": [
    "import pandas as pd\n",
    "import statsmodels.api as sm\n",
    "\n",
    "# Load your data from the CSV file using the provided file path\n",
    "file_path = r'C:\\Users\\affuy\\Documents\\Data_Sets\\combined_df.csv'\n",
    "data = pd.read_csv(file_path)\n",
    "\n",
    "# Define your dependent variable (number of bikes) and independent variables (characteristics of POIs)\n",
    "y = data['Number_of_Bikes']\n",
    "X = data[['POI_Characteristic1', 'POI_Characteristic2', ...]]  # Add all relevant POI characteristics\n",
    "\n",
    "# Add a constant term for the intercept in the regression model\n",
    "X = sm.add_constant(X)\n",
    "\n",
    "# Build the regression model\n",
    "model = sm.OLS(y, X).fit()\n",
    "\n",
    "# Interpret and print the results\n",
    "print(model.summary())\n"
   ]
  },
  {
   "cell_type": "markdown",
   "metadata": {},
   "source": [
    "Provide model output and an interpretation of the results. "
   ]
  },
  {
   "cell_type": "code",
   "execution_count": null,
   "metadata": {},
   "outputs": [],
   "source": []
  },
  {
   "cell_type": "markdown",
   "metadata": {},
   "source": [
    "# Stretch"
   ]
  },
  {
   "cell_type": "markdown",
   "metadata": {},
   "source": [
    "How can you turn the regression model into a classification model?"
   ]
  },
  {
   "cell_type": "code",
   "execution_count": null,
   "metadata": {},
   "outputs": [],
   "source": []
  }
 ],
 "metadata": {
  "kernelspec": {
   "display_name": "Python 3",
   "language": "python",
   "name": "python3"
  },
  "language_info": {
   "codemirror_mode": {
    "name": "ipython",
    "version": 3
   },
   "file_extension": ".py",
   "mimetype": "text/x-python",
   "name": "python",
   "nbconvert_exporter": "python",
   "pygments_lexer": "ipython3",
   "version": "3.8.5"
  }
 },
 "nbformat": 4,
 "nbformat_minor": 4
}
