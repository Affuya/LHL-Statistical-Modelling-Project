{
 "cells": [
  {
   "cell_type": "code",
   "execution_count": 10,
   "metadata": {},
   "outputs": [
    {
     "name": "stdout",
     "output_type": "stream",
     "text": [
      "Bike Stations in paris (DataFrame):\n",
      "\n",
      "                            station_name   Latitude  Longitude  Total Bikes\n",
      "0          Benjamin Godard - Victor Hugo  48.865983   2.275725           32\n",
      "1     André Mazet - Saint-André des Arts  48.853756   2.339096           54\n",
      "2        Faubourg Du Temple - Republique  48.867872   2.364898           35\n",
      "3                 Beaux-Arts - Bonaparte  48.856452   2.334852           19\n",
      "4                     Toudouze - Clauzel  48.879296   2.337360           21\n",
      "...                                  ...        ...        ...          ...\n",
      "1451      Henri Barbusse - Marcel Cachin  48.937421   2.372037           37\n",
      "1452        Stéphanie Bouvard - Gambetta  48.814548   2.402439           30\n",
      "1453                              Mairie  48.879487   2.416153           20\n",
      "1454          Rouget de L'isle - Watteau  48.778193   2.396302           20\n",
      "1455              Stade Gaston Bouillant  48.939959   2.327957           30\n",
      "\n",
      "[1456 rows x 4 columns]\n"
     ]
    }
   ],
   "source": [
    "import requests\n",
    "import pandas as pd\n",
    "\n",
    "response = requests.get(\"http://api.citybik.es/v2/networks\")\n",
    "data = response.json()\n",
    "\n",
    "city_name = input(\"Enter name of city: \")\n",
    "filtered_networks = []\n",
    "for network in data[\"networks\"]:\n",
    "    if network[\"location\"][\"city\"].lower() == city_name.lower():\n",
    "        filtered_networks.append(network)\n",
    "\n",
    "if filtered_networks:\n",
    "    chosen_network = filtered_networks[0]\n",
    "    chosen_network_id = chosen_network[\"id\"]\n",
    "\n",
    "    chosen_network_response = requests.get(f\"http://api.citybik.es/v2/networks/{chosen_network_id}\")\n",
    "    \n",
    "    chosen_network_data = chosen_network_response.json()\n",
    "\n",
    "    bike_stations = chosen_network_data[\"network\"][\"stations\"]\n",
    "    \n",
    "    station_data = []\n",
    "    for station in bike_stations:\n",
    "        station_name = station[\"name\"]\n",
    "        latitude = station[\"latitude\"]\n",
    "        longitude = station[\"longitude\"]\n",
    "        total_bikes = station[\"free_bikes\"] + station[\"empty_slots\"]\n",
    "        \n",
    "        station_data.append({\n",
    "            \"station_name\": station_name,\n",
    "            \"Latitude\": latitude,\n",
    "            \"Longitude\": longitude,\n",
    "            \"Total Bikes\": total_bikes\n",
    "        })\n",
    "\n",
    "    if station_data:\n",
    "        df = pd.DataFrame(station_data)\n",
    "        print(f\"Bike Stations in {city_name} (DataFrame):\\n\")\n",
    "        print(df)\n",
    "    else:\n",
    "        print(\"No bike station data available.\")\n",
    "else:\n",
    "    print(f\"No networks found for {city_name}.\")\n",
    "    \n",
    "\n",
    "\n"
   ]
  },
  {
   "cell_type": "code",
   "execution_count": 11,
   "metadata": {},
   "outputs": [
    {
     "name": "stdout",
     "output_type": "stream",
     "text": [
      "                         station_name   Latitude  Longitude  Total Bikes\n",
      "0       Benjamin Godard - Victor Hugo  48.865983   2.275725           32\n",
      "1  André Mazet - Saint-André des Arts  48.853756   2.339096           54\n",
      "2     Faubourg Du Temple - Republique  48.867872   2.364898           35\n"
     ]
    }
   ],
   "source": [
    "# view extracted dataframe\n",
    "print(df.head(3))"
   ]
  },
  {
   "cell_type": "markdown",
   "metadata": {},
   "source": [
    "##### Next we need to combine latitude and longitude into a string separated by ',' so that we can use it to retrieve locations from foursquare API."
   ]
  },
  {
   "cell_type": "code",
   "execution_count": 22,
   "metadata": {},
   "outputs": [
    {
     "name": "stdout",
     "output_type": "stream",
     "text": [
      "                                     Latitude  Longitude  Total Bikes  \\\n",
      "station_name                                                            \n",
      "Benjamin Godard - Victor Hugo       48.865983   2.275725           32   \n",
      "André Mazet - Saint-André des Arts  48.853756   2.339096           54   \n",
      "Faubourg Du Temple - Republique     48.867872   2.364898           35   \n",
      "Beaux-Arts - Bonaparte              48.856452   2.334852           19   \n",
      "Toudouze - Clauzel                  48.879296   2.337360           21   \n",
      "...                                       ...        ...          ...   \n",
      "Henri Barbusse - Marcel Cachin      48.937421   2.372037           37   \n",
      "Stéphanie Bouvard - Gambetta        48.814548   2.402439           30   \n",
      "Mairie                              48.879487   2.416153           20   \n",
      "Rouget de L'isle - Watteau          48.778193   2.396302           20   \n",
      "Stade Gaston Bouillant              48.939959   2.327957           30   \n",
      "\n",
      "                                                                      ll  \n",
      "station_name                                                              \n",
      "Benjamin Godard - Victor Hugo                         48.865983,2.275725  \n",
      "André Mazet - Saint-André des Arts  48.85375581057431,2.3390958085656166  \n",
      "Faubourg Du Temple - Republique          48.867872484749,2.3648982158072  \n",
      "Beaux-Arts - Bonaparte              48.856451985395786,2.334851883351803  \n",
      "Toudouze - Clauzel                  48.87929591733507,2.3373600840568547  \n",
      "...                                                                  ...  \n",
      "Henri Barbusse - Marcel Cachin            48.93742089281,2.3720374971659  \n",
      "Stéphanie Bouvard - Gambetta             48.814548138856,2.4024386957288  \n",
      "Mairie                                   48.879486942081,2.4161527565572  \n",
      "Rouget de L'isle - Watteau               48.778192750803,2.3963020229163  \n",
      "Stade Gaston Bouillant                   48.939958667023,2.3279571813836  \n",
      "\n",
      "[1456 rows x 4 columns]\n"
     ]
    }
   ],
   "source": [
    "# Create a new column concatenating latitude and longitude into a comma-separated string\n",
    "df['ll'] = df['Latitude'].astype(str) + ',' + df['Longitude'].astype(str)\n",
    "\n",
    "# Use station_name as index column\n",
    "df.set_index('station_name', inplace=True)\n",
    "\n",
    "print(df)\n",
    "\n",
    "\n",
    "\n"
   ]
  },
  {
   "cell_type": "code",
   "execution_count": null,
   "metadata": {},
   "outputs": [],
   "source": []
  }
 ],
 "metadata": {
  "kernelspec": {
   "display_name": "base",
   "language": "python",
   "name": "python3"
  },
  "language_info": {
   "codemirror_mode": {
    "name": "ipython",
    "version": 3
   },
   "file_extension": ".py",
   "mimetype": "text/x-python",
   "name": "python",
   "nbconvert_exporter": "python",
   "pygments_lexer": "ipython3",
   "version": "3.9.12"
  },
  "orig_nbformat": 4
 },
 "nbformat": 4,
 "nbformat_minor": 2
}
