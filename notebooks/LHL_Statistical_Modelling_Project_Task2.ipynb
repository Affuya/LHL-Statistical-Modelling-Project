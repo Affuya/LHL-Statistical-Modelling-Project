{
 "cells": [
  {
   "cell_type": "markdown",
   "metadata": {},
   "source": [
    "##### # Part 2: Connecting to Foursquare and Yelp APIs\n",
    "\n",
    "## Tasks:\n",
    "1. Connect to the Foursquare API\n",
    "2. Connect to the Yelp API\n",
    "3. Query APIs for information on restaurants/bars and various POIs\n",
    "4. Create DataFrames for Yelp and Foursquare results\n",
    "5. Compare the quality of Yelp and Foursquare APIs for coverage\n",
    "\n"
   ]
  },
  {
   "cell_type": "code",
   "execution_count": 19,
   "metadata": {},
   "outputs": [],
   "source": [
    "## Step 1: Connect to the Foursquare API\n",
    "\n",
    "''' First, you need to import the necessary libraries and set up your API key.'''\n",
    "## python\n",
    "import requests\n",
    "\n",
    "# Foursquare API key\n",
    "foursquare_key = \"FOURSQUARE_API_KEY\"\n",
    "\n",
    "# Define the base URL for Foursquare API\n",
    "url = \"https://api.foursquare.com/v3/places/search?ll=40.420589%2C-3.705842\"\n",
    "\n",
    "base_url = 'https://api.foursquare.com/v2/venues/search'\n",
    "response = requests.get(base_url)\n",
    "data = response.json()\n",
    "\n"
   ]
  },
  {
   "cell_type": "code",
   "execution_count": 20,
   "metadata": {},
   "outputs": [
    {
     "data": {
      "text/plain": [
       "{'meta': {'code': 404,\n",
       "  'errorType': 'other',\n",
       "  'errorDetail': 'Endpoint not found',\n",
       "  'requestId': '64efdc7cc65e3918dc244ff9'},\n",
       " 'response': {}}"
      ]
     },
     "execution_count": 20,
     "metadata": {},
     "output_type": "execute_result"
    }
   ],
   "source": [
    "data"
   ]
  },
  {
   "cell_type": "markdown",
   "metadata": {},
   "source": [
    "##### Step 2: Connect to the Yelp API"
   ]
  },
  {
   "cell_type": "code",
   "execution_count": 16,
   "metadata": {},
   "outputs": [],
   "source": [
    "## Yelp API Key\n",
    "yelp_key = \"YELP_API_KEY\"\n",
    "\n",
    "# Define the base URL for Yelp API\n",
    "base_url_yelp = 'https://api.yelp.com/v3/'\n",
    "\n",
    "# Define headers for Yelp API\n",
    "headers = {\n",
    "    'Authorization': f'Bearer {yelp_key}',\n",
    "}\n",
    "\n",
    "# Make a request to the base URL\n",
    "response = requests.get(base_url_yelp, headers=headers)\n",
    "data = response.json()\n",
    "\n"
   ]
  },
  {
   "cell_type": "markdown",
   "metadata": {},
   "source": [
    "#### Task 3: Take User Input for City and Retrieve Bike Stations\n",
    "Take input from the user for the city, retrieve bike stations in that city, and then proceed to query both APIs for the specified locations:"
   ]
  },
  {
   "cell_type": "code",
   "execution_count": null,
   "metadata": {},
   "outputs": [],
   "source": [
    "# Take input for the city from the user\n",
    "city = input(\"Enter the name of the city: \")\n",
    "filtered_networks = []\n",
    "\n"
   ]
  }
 ],
 "metadata": {
  "kernelspec": {
   "display_name": "base",
   "language": "python",
   "name": "python3"
  },
  "language_info": {
   "codemirror_mode": {
    "name": "ipython",
    "version": 3
   },
   "file_extension": ".py",
   "mimetype": "text/x-python",
   "name": "python",
   "nbconvert_exporter": "python",
   "pygments_lexer": "ipython3",
   "version": "3.9.12"
  },
  "orig_nbformat": 4
 },
 "nbformat": 4,
 "nbformat_minor": 2
}
